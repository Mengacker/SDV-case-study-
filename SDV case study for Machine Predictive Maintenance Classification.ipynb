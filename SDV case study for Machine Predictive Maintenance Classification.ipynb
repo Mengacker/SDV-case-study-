{
 "cells": [
  {
   "cell_type": "code",
   "execution_count": 20,
   "metadata": {},
   "outputs": [],
   "source": [
    "# pip install sdv\n",
    "# pip3 install torch torchvision torchaudio\n",
    "# pip3 install torch torchvision torchaudio --extra-index-url https://download.pytorch.org/whl/cu116\n",
    "# pip3 install torch torchvision torchaudio --extra-index-url https://download.pytorch.org/whl/cu117"
   ]
  },
  {
   "cell_type": "code",
   "execution_count": 1,
   "metadata": {},
   "outputs": [
    {
     "name": "stderr",
     "output_type": "stream",
     "text": [
      "C:\\Users\\dmariani\\.conda\\envs\\SDV\\lib\\site-packages\\tqdm\\auto.py:22: TqdmWarning: IProgress not found. Please update jupyter and ipywidgets. See https://ipywidgets.readthedocs.io/en/stable/user_install.html\n",
      "  from .autonotebook import tqdm as notebook_tqdm\n"
     ]
    }
   ],
   "source": [
    "# LIBRARIES ~\n",
    "import os\n",
    "from datetime import datetime, timedelta\n",
    "\n",
    "import numpy as np\n",
    "import pandas as pd\n",
    "\n",
    "from sdv import SDV # https://sdv.dev/SDV/getting_started/quickstart.html\n",
    "from sdv.tabular import GaussianCopula\n",
    "\n",
    "\n",
    "from sklearn.model_selection import StratifiedKFold, train_test_split\n",
    "from sklearn.preprocessing import LabelEncoder\n",
    "from sklearn.ensemble import RandomForestClassifier\n",
    "from sklearn.metrics import classification_report, confusion_matrix, precision_recall_fscore_support\n",
    "\n",
    "from sklearn.metrics import accuracy_score, f1_score, precision_score, recall_score, precision_recall_curve, PrecisionRecallDisplay\n",
    "\n",
    "# Setting\n",
    "pd.set_option('display.max_columns', 500)"
   ]
  },
  {
   "cell_type": "code",
   "execution_count": 2,
   "metadata": {},
   "outputs": [
    {
     "name": "stdout",
     "output_type": "stream",
     "text": [
      "C:\\Users\\dmariani\\OneDrive - BUSINESS INTEGRATION PARTNERS SPA\\3 - Osservatorio\\Syntetic Data Generation\n"
     ]
    }
   ],
   "source": [
    "# HOME DIRECTORY\n",
    "dir_origin = os.getcwd(); print(dir_origin)\n",
    "#print(os.listdir(os.getcwd()))"
   ]
  },
  {
   "cell_type": "markdown",
   "metadata": {},
   "source": [
    "# CASE STUDY"
   ]
  },
  {
   "cell_type": "code",
   "execution_count": 3,
   "metadata": {},
   "outputs": [],
   "source": [
    "# INPUT PARAMETERS\n",
    "FEATURE_COLUMNS = [\n",
    "    'Type',\n",
    "    'Air temperature [K]',\n",
    "    'Process temperature [K]',\n",
    "    'Rotational speed [rpm]', \n",
    "    'Torque [Nm]',\n",
    "    'Tool wear [min]'\n",
    "]\n",
    "LABEL_A = \"Target\"\n",
    "LABEL_B = \"Failure Type\"\n",
    "\n",
    "K_FOLDS = 5\n",
    "TEST_SPLIT_SIZE = 0.25\n",
    "\n",
    "# PERCENTAGE_ADDED_SYNTHETIC_DATA = 0.5 # +50% positive samples\n",
    "PERCENTAGE_ADDED_SYNTHETIC_DATA = 1 # +100% positive samples\n",
    "\n",
    "GENERATE_KWARGS = dict(\n",
    "                        uniformization_ratio=0,\n",
    "                        stretch_factor=1\n",
    ")\n",
    "\n",
    "SEED = 42"
   ]
  },
  {
   "cell_type": "code",
   "execution_count": 4,
   "metadata": {},
   "outputs": [
    {
     "name": "stdout",
     "output_type": "stream",
     "text": [
      "C:\\Users\\dmariani\\OneDrive - BUSINESS INTEGRATION PARTNERS SPA\\3 - Osservatorio\\Syntetic Data Generation\\input data\n",
      "(10000, 7)\n"
     ]
    },
    {
     "data": {
      "text/html": [
       "<div>\n",
       "<style scoped>\n",
       "    .dataframe tbody tr th:only-of-type {\n",
       "        vertical-align: middle;\n",
       "    }\n",
       "\n",
       "    .dataframe tbody tr th {\n",
       "        vertical-align: top;\n",
       "    }\n",
       "\n",
       "    .dataframe thead th {\n",
       "        text-align: right;\n",
       "    }\n",
       "</style>\n",
       "<table border=\"1\" class=\"dataframe\">\n",
       "  <thead>\n",
       "    <tr style=\"text-align: right;\">\n",
       "      <th></th>\n",
       "      <th>Type</th>\n",
       "      <th>Air temperature [K]</th>\n",
       "      <th>Process temperature [K]</th>\n",
       "      <th>Rotational speed [rpm]</th>\n",
       "      <th>Torque [Nm]</th>\n",
       "      <th>Tool wear [min]</th>\n",
       "      <th>Target</th>\n",
       "    </tr>\n",
       "  </thead>\n",
       "  <tbody>\n",
       "    <tr>\n",
       "      <th>0</th>\n",
       "      <td>2</td>\n",
       "      <td>298.1</td>\n",
       "      <td>308.6</td>\n",
       "      <td>1551</td>\n",
       "      <td>42.8</td>\n",
       "      <td>0</td>\n",
       "      <td>0</td>\n",
       "    </tr>\n",
       "    <tr>\n",
       "      <th>1</th>\n",
       "      <td>1</td>\n",
       "      <td>298.2</td>\n",
       "      <td>308.7</td>\n",
       "      <td>1408</td>\n",
       "      <td>46.3</td>\n",
       "      <td>3</td>\n",
       "      <td>0</td>\n",
       "    </tr>\n",
       "    <tr>\n",
       "      <th>2</th>\n",
       "      <td>1</td>\n",
       "      <td>298.1</td>\n",
       "      <td>308.5</td>\n",
       "      <td>1498</td>\n",
       "      <td>49.4</td>\n",
       "      <td>5</td>\n",
       "      <td>0</td>\n",
       "    </tr>\n",
       "    <tr>\n",
       "      <th>3</th>\n",
       "      <td>1</td>\n",
       "      <td>298.2</td>\n",
       "      <td>308.6</td>\n",
       "      <td>1433</td>\n",
       "      <td>39.5</td>\n",
       "      <td>7</td>\n",
       "      <td>0</td>\n",
       "    </tr>\n",
       "    <tr>\n",
       "      <th>4</th>\n",
       "      <td>1</td>\n",
       "      <td>298.2</td>\n",
       "      <td>308.7</td>\n",
       "      <td>1408</td>\n",
       "      <td>40.0</td>\n",
       "      <td>9</td>\n",
       "      <td>0</td>\n",
       "    </tr>\n",
       "  </tbody>\n",
       "</table>\n",
       "</div>"
      ],
      "text/plain": [
       "   Type  Air temperature [K]  Process temperature [K]  Rotational speed [rpm]  \\\n",
       "0     2                298.1                    308.6                    1551   \n",
       "1     1                298.2                    308.7                    1408   \n",
       "2     1                298.1                    308.5                    1498   \n",
       "3     1                298.2                    308.6                    1433   \n",
       "4     1                298.2                    308.7                    1408   \n",
       "\n",
       "   Torque [Nm]  Tool wear [min]  Target  \n",
       "0         42.8                0       0  \n",
       "1         46.3                3       0  \n",
       "2         49.4                5       0  \n",
       "3         39.5                7       0  \n",
       "4         40.0                9       0  "
      ]
     },
     "execution_count": 4,
     "metadata": {},
     "output_type": "execute_result"
    }
   ],
   "source": [
    "# LOAD \n",
    "\n",
    "dir_data = r'C:\\Users\\dmariani\\OneDrive - BUSINESS INTEGRATION PARTNERS SPA\\3 - Osservatorio\\Syntetic Data Generation\\input data'\n",
    "os.chdir(dir_data); print(dir_data)\n",
    "\n",
    "df_input = pd.read_csv(\"predictive_maintenance.csv\")\\\n",
    "          .assign(Type=lambda x: LabelEncoder().fit_transform(x[\"Type\"])) # Encoding numerico del campo categoriale \"Type\"\n",
    "\n",
    "df_input.drop(columns=['UDI','Product ID','Failure Type'], inplace=True)\n",
    "\n",
    "print(df_input.shape)\n",
    "df_input.head()"
   ]
  },
  {
   "cell_type": "code",
   "execution_count": 5,
   "metadata": {},
   "outputs": [
    {
     "name": "stdout",
     "output_type": "stream",
     "text": [
      "Target value count:\n"
     ]
    },
    {
     "data": {
      "text/plain": [
       "0    9661\n",
       "1     339\n",
       "Name: Target, dtype: int64"
      ]
     },
     "execution_count": 5,
     "metadata": {},
     "output_type": "execute_result"
    }
   ],
   "source": [
    "print('Target value count:')\n",
    "df_input[\"Target\"].value_counts()"
   ]
  },
  {
   "cell_type": "markdown",
   "metadata": {},
   "source": [
    "# Generazione di Syntetic Data Values"
   ]
  },
  {
   "cell_type": "code",
   "execution_count": 6,
   "metadata": {},
   "outputs": [
    {
     "data": {
      "text/html": [
       "<div>\n",
       "<style scoped>\n",
       "    .dataframe tbody tr th:only-of-type {\n",
       "        vertical-align: middle;\n",
       "    }\n",
       "\n",
       "    .dataframe tbody tr th {\n",
       "        vertical-align: top;\n",
       "    }\n",
       "\n",
       "    .dataframe thead th {\n",
       "        text-align: right;\n",
       "    }\n",
       "</style>\n",
       "<table border=\"1\" class=\"dataframe\">\n",
       "  <thead>\n",
       "    <tr style=\"text-align: right;\">\n",
       "      <th></th>\n",
       "      <th>Type</th>\n",
       "      <th>Air temperature [K]</th>\n",
       "      <th>Process temperature [K]</th>\n",
       "      <th>Rotational speed [rpm]</th>\n",
       "      <th>Torque [Nm]</th>\n",
       "      <th>Tool wear [min]</th>\n",
       "      <th>Target</th>\n",
       "    </tr>\n",
       "  </thead>\n",
       "  <tbody>\n",
       "    <tr>\n",
       "      <th>0</th>\n",
       "      <td>1</td>\n",
       "      <td>302.3</td>\n",
       "      <td>310.5</td>\n",
       "      <td>2387</td>\n",
       "      <td>6.5</td>\n",
       "      <td>91</td>\n",
       "      <td>1</td>\n",
       "    </tr>\n",
       "    <tr>\n",
       "      <th>1</th>\n",
       "      <td>2</td>\n",
       "      <td>298.1</td>\n",
       "      <td>308.4</td>\n",
       "      <td>2164</td>\n",
       "      <td>35.9</td>\n",
       "      <td>134</td>\n",
       "      <td>1</td>\n",
       "    </tr>\n",
       "    <tr>\n",
       "      <th>2</th>\n",
       "      <td>1</td>\n",
       "      <td>300.3</td>\n",
       "      <td>308.8</td>\n",
       "      <td>1499</td>\n",
       "      <td>54.4</td>\n",
       "      <td>0</td>\n",
       "      <td>1</td>\n",
       "    </tr>\n",
       "    <tr>\n",
       "      <th>3</th>\n",
       "      <td>1</td>\n",
       "      <td>297.3</td>\n",
       "      <td>309.1</td>\n",
       "      <td>1765</td>\n",
       "      <td>31.9</td>\n",
       "      <td>240</td>\n",
       "      <td>1</td>\n",
       "    </tr>\n",
       "    <tr>\n",
       "      <th>4</th>\n",
       "      <td>1</td>\n",
       "      <td>299.3</td>\n",
       "      <td>309.9</td>\n",
       "      <td>1677</td>\n",
       "      <td>58.3</td>\n",
       "      <td>36</td>\n",
       "      <td>1</td>\n",
       "    </tr>\n",
       "    <tr>\n",
       "      <th>...</th>\n",
       "      <td>...</td>\n",
       "      <td>...</td>\n",
       "      <td>...</td>\n",
       "      <td>...</td>\n",
       "      <td>...</td>\n",
       "      <td>...</td>\n",
       "      <td>...</td>\n",
       "    </tr>\n",
       "    <tr>\n",
       "      <th>95</th>\n",
       "      <td>1</td>\n",
       "      <td>301.5</td>\n",
       "      <td>311.4</td>\n",
       "      <td>1483</td>\n",
       "      <td>61.0</td>\n",
       "      <td>85</td>\n",
       "      <td>1</td>\n",
       "    </tr>\n",
       "    <tr>\n",
       "      <th>96</th>\n",
       "      <td>1</td>\n",
       "      <td>302.9</td>\n",
       "      <td>312.1</td>\n",
       "      <td>1226</td>\n",
       "      <td>70.7</td>\n",
       "      <td>149</td>\n",
       "      <td>1</td>\n",
       "    </tr>\n",
       "    <tr>\n",
       "      <th>97</th>\n",
       "      <td>2</td>\n",
       "      <td>301.6</td>\n",
       "      <td>310.4</td>\n",
       "      <td>1398</td>\n",
       "      <td>46.0</td>\n",
       "      <td>178</td>\n",
       "      <td>1</td>\n",
       "    </tr>\n",
       "    <tr>\n",
       "      <th>98</th>\n",
       "      <td>0</td>\n",
       "      <td>299.4</td>\n",
       "      <td>309.9</td>\n",
       "      <td>1451</td>\n",
       "      <td>39.6</td>\n",
       "      <td>231</td>\n",
       "      <td>1</td>\n",
       "    </tr>\n",
       "    <tr>\n",
       "      <th>99</th>\n",
       "      <td>2</td>\n",
       "      <td>302.4</td>\n",
       "      <td>310.8</td>\n",
       "      <td>1520</td>\n",
       "      <td>45.3</td>\n",
       "      <td>219</td>\n",
       "      <td>1</td>\n",
       "    </tr>\n",
       "  </tbody>\n",
       "</table>\n",
       "<p>100 rows × 7 columns</p>\n",
       "</div>"
      ],
      "text/plain": [
       "    Type  Air temperature [K]  Process temperature [K]  \\\n",
       "0      1                302.3                    310.5   \n",
       "1      2                298.1                    308.4   \n",
       "2      1                300.3                    308.8   \n",
       "3      1                297.3                    309.1   \n",
       "4      1                299.3                    309.9   \n",
       "..   ...                  ...                      ...   \n",
       "95     1                301.5                    311.4   \n",
       "96     1                302.9                    312.1   \n",
       "97     2                301.6                    310.4   \n",
       "98     0                299.4                    309.9   \n",
       "99     2                302.4                    310.8   \n",
       "\n",
       "    Rotational speed [rpm]  Torque [Nm]  Tool wear [min]  Target  \n",
       "0                     2387          6.5               91       1  \n",
       "1                     2164         35.9              134       1  \n",
       "2                     1499         54.4                0       1  \n",
       "3                     1765         31.9              240       1  \n",
       "4                     1677         58.3               36       1  \n",
       "..                     ...          ...              ...     ...  \n",
       "95                    1483         61.0               85       1  \n",
       "96                    1226         70.7              149       1  \n",
       "97                    1398         46.0              178       1  \n",
       "98                    1451         39.6              231       1  \n",
       "99                    1520         45.3              219       1  \n",
       "\n",
       "[100 rows x 7 columns]"
      ]
     },
     "execution_count": 6,
     "metadata": {},
     "output_type": "execute_result"
    }
   ],
   "source": [
    "# Instanza e training del modello di Syntetic Data Values sui soli valori target positivi\n",
    "sdv = GaussianCopula()\n",
    "\n",
    "ind = df_input['Target']==1\n",
    "df = df_input.loc[ind,:]\n",
    "\n",
    "sdv.fit(df)\n",
    "\n",
    "sdv.sample(100) # sample 100 new rows"
   ]
  },
  {
   "cell_type": "markdown",
   "metadata": {},
   "source": [
    "# Modello RandomForestClassifier BASE"
   ]
  },
  {
   "cell_type": "code",
   "execution_count": 60,
   "metadata": {},
   "outputs": [
    {
     "name": "stdout",
     "output_type": "stream",
     "text": [
      "(10000, 7) base dataset\n",
      "339 n° of failure\n",
      "25.0 % for test dataset\n"
     ]
    }
   ],
   "source": [
    "# Data\n",
    "df = df_input.copy()\n",
    "print(df.shape ,'base dataset')\n",
    "print((df['Target']==1).sum(),'n° of failure') \n",
    "\n",
    "# Split\n",
    "df_train, df_test = train_test_split(df, test_size=TEST_SPLIT_SIZE, train_size=1-TEST_SPLIT_SIZE, random_state=SEED, stratify=df['Target'])\n",
    "print(TEST_SPLIT_SIZE*100,'% for test dataset')"
   ]
  },
  {
   "cell_type": "code",
   "execution_count": 61,
   "metadata": {},
   "outputs": [
    {
     "name": "stdout",
     "output_type": "stream",
     "text": [
      "(7500, 6) train dataset\n",
      "(2500, 6) test dataset\n"
     ]
    }
   ],
   "source": [
    "# Datasets\n",
    "X_train_base=df_train.drop(columns='Target')\n",
    "Y_train_base=df_train['Target']\n",
    "print(X_train_base.shape, 'train dataset')\n",
    "\n",
    "X_test_base=df_test.drop(columns='Target')\n",
    "Y_test_base=pd.DataFrame(df_test['Target'])\n",
    "print(X_test_base.shape, 'test dataset')"
   ]
  },
  {
   "cell_type": "code",
   "execution_count": 63,
   "metadata": {},
   "outputs": [
    {
     "name": "stdout",
     "output_type": "stream",
     "text": [
      "0.626865671641791 f1 score\n",
      "0.8571428571428571 precision\n",
      "0.49411764705882355 recall\n"
     ]
    }
   ],
   "source": [
    "# MODEL \n",
    "model_base=RandomForestClassifier(n_estimators=20, max_depth=10, random_state=SEED, n_jobs=-1)\n",
    "model_base.fit(X_train_base, Y_train_base)\n",
    "    \n",
    "# PREDICTION\n",
    "Y_test_base['pred'] =       pd.DataFrame( model_base.predict(       X_test_base ) ).values\n",
    "Y_test_base['pred_proba'] = pd.DataFrame( model_base.predict_proba( X_test_base ) ).iloc[:,1].values\n",
    "Y_test_base.head()\n",
    "\n",
    "# PERFORMANCE\n",
    "print(f1_score(       Y_test_base['Target'], Y_test_base['pred']), 'f1 score')\n",
    "print(precision_score(Y_test_base['Target'], Y_test_base['pred']), 'precision')\n",
    "print(recall_score(   Y_test_base['Target'], Y_test_base['pred']), 'recall')"
   ]
  },
  {
   "cell_type": "code",
   "execution_count": 64,
   "metadata": {},
   "outputs": [
    {
     "data": {
      "text/plain": [
       "<sklearn.metrics._plot.precision_recall_curve.PrecisionRecallDisplay at 0x289c6ce8610>"
      ]
     },
     "execution_count": 64,
     "metadata": {},
     "output_type": "execute_result"
    },
    {
     "data": {
      "image/png": "[encoded data removed]",
      "text/plain": [
       "<Figure size 640x480 with 1 Axes>"
      ]
     },
     "metadata": {},
     "output_type": "display_data"
    }
   ],
   "source": [
    "PrecisionRecallDisplay.from_estimator(model_base, X_test_base, Y_test_base['Target'])"
   ]
  },
  {
   "cell_type": "code",
   "execution_count": 65,
   "metadata": {},
   "outputs": [
    {
     "name": "stdout",
     "output_type": "stream",
     "text": [
      "0.6407489987682355 mean f1 on 10 iteration\n"
     ]
    },
    {
     "data": {
      "text/plain": [
       "[0.6518518518518519,\n",
       " 0.5925925925925927,\n",
       " 0.6618705035971222,\n",
       " 0.6618705035971222,\n",
       " 0.6805555555555555,\n",
       " 0.5909090909090908,\n",
       " 0.6074074074074074,\n",
       " 0.6370370370370371,\n",
       " 0.6376811594202898,\n",
       " 0.6857142857142856]"
      ]
     },
     "execution_count": 65,
     "metadata": {},
     "output_type": "execute_result"
    }
   ],
   "source": [
    "# Sensitivity to seed parameter\n",
    "SEEDS=range(0,10,1)\n",
    "l_f1=[]\n",
    "for seed in SEEDS:\n",
    "    \n",
    "    # MODEL \n",
    "    model_base=RandomForestClassifier(n_estimators=20, max_depth=10, random_state=seed, n_jobs=-1)\n",
    "    model_base.fit(X_train_base, Y_train_base)\n",
    "    \n",
    "    # PREDICTION\n",
    "    Y_test_base['pred'] =       pd.DataFrame( model_base.predict(       X_test_base ) ).values\n",
    "    Y_test_base['pred_proba'] = pd.DataFrame( model_base.predict_proba( X_test_base ) ).iloc[:,1].values\n",
    "\n",
    "    # PERFORMANCE\n",
    "    l_f1.append( f1_score(Y_test_base['Target'], Y_test_base['pred']))\n",
    "\n",
    "print(np.mean(l_f1), 'mean f1 on',len(SEEDS),'iteration')\n",
    "l_f1"
   ]
  },
  {
   "cell_type": "markdown",
   "metadata": {},
   "source": [
    "# # Modello RandomForestClassifier  con SDV"
   ]
  },
  {
   "cell_type": "code",
   "execution_count": 80,
   "metadata": {},
   "outputs": [
    {
     "name": "stdout",
     "output_type": "stream",
     "text": [
      "(10000, 7) base dataset\n",
      "339 n° of failure\n",
      "25.0 % for test dataset\n"
     ]
    }
   ],
   "source": [
    "# Data\n",
    "df = df_input.copy()\n",
    "print(df.shape ,'base dataset')\n",
    "print((df['Target']==1).sum(),'n° of failure') \n",
    "\n",
    "# Dataset split\n",
    "df_train, df_test = train_test_split(df, test_size=TEST_SPLIT_SIZE, train_size=1-TEST_SPLIT_SIZE, random_state=SEED, stratify=df['Target'])\n",
    "print(TEST_SPLIT_SIZE*100,'% for test dataset')"
   ]
  },
  {
   "cell_type": "code",
   "execution_count": 81,
   "metadata": {},
   "outputs": [
    {
     "name": "stdout",
     "output_type": "stream",
     "text": [
      "(7754, 6) train dataset enriched with + 100 % positive targets: 254\n",
      "(2500, 6) test dataset\n"
     ]
    }
   ],
   "source": [
    "# Enrichment of train dataset with only positive targets\n",
    "df_sdv   = sdv.sample(int((df_train['Target']==1).sum()*PERCENTAGE_ADDED_SYNTHETIC_DATA))\n",
    "df_train_enrich = pd.concat([df_train,df_sdv])\n",
    "\n",
    "X_train=df_train_enrich.drop(columns='Target')\n",
    "Y_train=df_train_enrich['Target']\n",
    "print(X_train.shape, 'train dataset enriched with +', PERCENTAGE_ADDED_SYNTHETIC_DATA*100, '% positive targets:',df_sdv.shape[0])\n",
    "\n",
    "X_test=df_test.drop(columns='Target')\n",
    "Y_test=pd.DataFrame(df_test['Target'])\n",
    "print(X_test.shape, 'test dataset')"
   ]
  },
  {
   "cell_type": "code",
   "execution_count": 82,
   "metadata": {},
   "outputs": [
    {
     "name": "stdout",
     "output_type": "stream",
     "text": [
      "0.625 f1\n",
      "0.7627118644067796 precision\n",
      "0.5294117647058824 recall\n"
     ]
    }
   ],
   "source": [
    "# MODEL \n",
    "model_sdv=RandomForestClassifier(n_estimators=20, max_depth=10, random_state=SEED, n_jobs=-1)\n",
    "model_sdv.fit(X_train, Y_train)\n",
    "\n",
    "# PREDICTION\n",
    "Y_test['pred'] =       pd.DataFrame( model_sdv.predict(       X_test ) ).values\n",
    "Y_test['pred_proba'] = pd.DataFrame( model_sdv.predict_proba( X_test ) ).iloc[:,1].values\n",
    "\n",
    "# PERFORMANCE\n",
    "print(        f1_score(Y_test['Target'], Y_test['pred']),'f1')\n",
    "print( precision_score(Y_test['Target'], Y_test['pred']),'precision')\n",
    "print(    recall_score(Y_test['Target'], Y_test['pred']),'recall')"
   ]
  },
  {
   "cell_type": "code",
   "execution_count": 83,
   "metadata": {},
   "outputs": [
    {
     "data": {
      "text/plain": [
       "<sklearn.metrics._plot.precision_recall_curve.PrecisionRecallDisplay at 0x289c5cafd60>"
      ]
     },
     "execution_count": 83,
     "metadata": {},
     "output_type": "execute_result"
    },
    {
     "data": {
      "image/png": "[encoded data removed]",
      "text/plain": [
       "<Figure size 640x480 with 1 Axes>"
      ]
     },
     "metadata": {},
     "output_type": "display_data"
    }
   ],
   "source": [
    "PrecisionRecallDisplay.from_estimator(model_sdv, X_test, Y_test['Target'])"
   ]
  },
  {
   "cell_type": "code",
   "execution_count": 84,
   "metadata": {},
   "outputs": [
    {
     "name": "stdout",
     "output_type": "stream",
     "text": [
      "0.6682903210263172 mean f1 on 11 iteration\n"
     ]
    },
    {
     "data": {
      "text/plain": [
       "[0.7382550335570471,\n",
       " 0.7333333333333334,\n",
       " 0.6944444444444444,\n",
       " 0.6099290780141845,\n",
       " 0.7368421052631579,\n",
       " 0.5757575757575757,\n",
       " 0.6571428571428571,\n",
       " 0.5970149253731343,\n",
       " 0.6933333333333334,\n",
       " 0.6901408450704225,\n",
       " 0.625]"
      ]
     },
     "execution_count": 84,
     "metadata": {},
     "output_type": "execute_result"
    }
   ],
   "source": [
    "# Sensitivity to seed parameter\n",
    "SEEDS=list(range(0,10,1))+[SEED]\n",
    "l_f1=[]\n",
    "for seed in SEEDS:\n",
    "#     print(seed,'seed')\n",
    "    \n",
    "    # MODEL \n",
    "    model_sdv=RandomForestClassifier(n_estimators=20, max_depth=10, random_state=seed, n_jobs=-1)\n",
    "    model_sdv.fit(X_train, Y_train)\n",
    "    \n",
    "    # PREDICTION\n",
    "    Y_test['pred'] =       pd.DataFrame( model_sdv.predict(       X_test ) ).values\n",
    "    Y_test['pred_proba'] = pd.DataFrame( model_sdv.predict_proba( X_test ) ).iloc[:,1].values\n",
    "\n",
    "    # PERFORMANCE\n",
    "    l_f1.append( f1_score(Y_test['Target'], Y_test['pred']))\n",
    "\n",
    "print(np.mean(l_f1), 'mean f1 on',len(SEEDS),'iteration')\n",
    "l_f1"
   ]
  },
  {
   "cell_type": "code",
   "execution_count": 91,
   "metadata": {},
   "outputs": [
    {
     "name": "stdout",
     "output_type": "stream",
     "text": [
      "(7563, 6) train dataset enriched with + 25.0 % positive targets: 63\n",
      "(7627, 6) train dataset enriched with + 50.0 % positive targets: 127\n",
      "(7690, 6) train dataset enriched with + 75.0 % positive targets: 190\n",
      "(7754, 6) train dataset enriched with + 100 % positive targets: 254\n",
      "(8008, 6) train dataset enriched with + 200 % positive targets: 508\n",
      "(8262, 6) train dataset enriched with + 300 % positive targets: 762\n",
      "(8770, 6) train dataset enriched with + 500 % positive targets: 1270\n",
      "(10040, 6) train dataset enriched with + 1000 % positive targets: 2540\n",
      "\n",
      "0.6971309823403167 mean precision on 7 iteration\n",
      "0.4955882352941176 mean recall on 7 iteration\n",
      "0.5666832390524308 mean f1 on 7 iteration\n"
     ]
    },
    {
     "data": {
      "text/plain": [
       "[0.5714285714285714,\n",
       " 0.5909090909090908,\n",
       " 0.5925925925925927,\n",
       " 0.5384615384615384,\n",
       " 0.5405405405405405,\n",
       " 0.5714285714285715,\n",
       " 0.5798816568047337,\n",
       " 0.5482233502538071]"
      ]
     },
     "execution_count": 91,
     "metadata": {},
     "output_type": "execute_result"
    }
   ],
   "source": [
    "# Sensitivity to Enrichment parameter\n",
    "ENRICH=[0.25,0.5,0.75,1,2,3,5,10]\n",
    "l_f1=[]; l_precision=[]; l_recall=[]\n",
    "\n",
    "for ii,ee in enumerate(ENRICH):\n",
    "    \n",
    "    # Enrichment of train dataset with only positive targets\n",
    "    df_sdv   = sdv.sample(int((df_train['Target']==1).sum()*ee))\n",
    "    df_train_enrich = pd.concat([df_train,df_sdv])\n",
    "\n",
    "    X_train=df_train_enrich.drop(columns='Target')\n",
    "    Y_train=df_train_enrich['Target']\n",
    "    print(X_train.shape, 'train dataset enriched with +', ee*100, '% positive targets:',df_sdv.shape[0])\n",
    "\n",
    "    X_test=df_test.drop(columns='Target')\n",
    "    Y_test=pd.DataFrame(df_test['Target'])\n",
    "#     print(X_test.shape, 'test dataset')\n",
    "\n",
    "    # MODEL \n",
    "    model_sdv=RandomForestClassifier(n_estimators=20, max_depth=10, random_state=SEED, n_jobs=-1)\n",
    "    model_sdv.fit(X_train, Y_train)\n",
    "\n",
    "    # PREDICTION\n",
    "    Y_test['pred'] =       pd.DataFrame( model_sdv.predict(       X_test ) ).values\n",
    "    Y_test['pred_proba'] = pd.DataFrame( model_sdv.predict_proba( X_test ) ).iloc[:,1].values\n",
    "\n",
    "    # PERFORMANCE\n",
    "    l_f1.append(        f1_score(       Y_test['Target'], Y_test['pred']))\n",
    "    l_precision.append( precision_score(Y_test['Target'], Y_test['pred']))\n",
    "    l_recall.append(    recall_score(   Y_test['Target'], Y_test['pred']))\n",
    "    \n",
    "print('')\n",
    "print(np.mean(l_precision), 'mean precision on',ii,'iteration')\n",
    "print(np.mean(l_recall), 'mean recall on',ii,'iteration')\n",
    "print(np.mean(l_f1), 'mean f1 on',ii,'iteration')\n",
    "l_f1"
   ]
  },
  {
   "cell_type": "code",
   "execution_count": null,
   "metadata": {},
   "outputs": [],
   "source": []
  }
 ],
 "metadata": {
  "kernelspec": {
   "display_name": "Python 3 (ipykernel)",
   "language": "python",
   "name": "python3"
  },
  "language_info": {
   "codemirror_mode": {
    "name": "ipython",
    "version": 3
   },
   "file_extension": ".py",
   "mimetype": "text/x-python",
   "name": "python",
   "nbconvert_exporter": "python",
   "pygments_lexer": "ipython3",
   "version": "3.8.15"
  }
 },
 "nbformat": 4,
 "nbformat_minor": 4
}
